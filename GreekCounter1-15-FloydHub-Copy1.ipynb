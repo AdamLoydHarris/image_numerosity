{
 "cells": [
  {
   "cell_type": "code",
   "execution_count": 39,
   "metadata": {},
   "outputs": [],
   "source": [
    "import numpy as np\n",
    "import pandas as pd\n",
    "import os\n",
    "import tensorflow as tf\n",
    "from tensorflow import keras\n",
    "import matplotlib\n",
    "import matplotlib.pyplot as plt\n",
    "from PIL import Image\n",
    "from sklearn.model_selection import train_test_split\n",
    "from keras import applications\n",
    "from keras.preprocessing.image import ImageDataGenerator\n",
    "from keras import optimizers\n",
    "from keras.models import Sequential, Model \n",
    "from keras.layers import Dropout, Flatten, Dense, GlobalAveragePooling2D\n",
    "from keras import backend as k \n",
    "from keras.callbacks import ModelCheckpoint, LearningRateScheduler, TensorBoard, EarlyStopping\n",
    "import cv2\n",
    "import skimage"
   ]
  },
  {
   "cell_type": "markdown",
   "metadata": {},
   "source": [
    "# Load Greek Characters Dataset and Labels (Any combination of greek letters)"
   ]
  },
  {
   "cell_type": "code",
   "execution_count": 40,
   "metadata": {},
   "outputs": [
    {
     "name": "stdout",
     "output_type": "stream",
     "text": [
      "10000\n",
      "10000\n"
     ]
    }
   ],
   "source": [
    "greek_data_path = r\"/floyd/input/greek_1_16/Images\"\n",
    "greek_list = os.listdir(greek_data_path) \n",
    "num_greek_samples = np.size(greek_list)\n",
    "print(num_greek_samples)\n",
    "greek_list.sort()\n",
    "greek_labels = np.loadtxt('/floyd/input/greek_1_16/labels.csv', delimiter=',', skiprows=0)\n",
    "greek_labels = greek_labels.astype(np.uint8)\n",
    "greek_labels = greek_labels[:,4]\n",
    "print(len(greek_labels))"
   ]
  },
  {
   "cell_type": "code",
   "execution_count": 41,
   "metadata": {},
   "outputs": [
    {
     "name": "stdout",
     "output_type": "stream",
     "text": [
      "100 100 10000\n"
     ]
    }
   ],
   "source": [
    "im = Image.open(greek_data_path + '/' + greek_list[0])\n",
    "np_im = np.array(im)\n",
    "m, n = np_im.shape[0:2] # get the size of the images\n",
    "num_images = len(greek_list)\n",
    "print(m, n, num_images)\n",
    "greek_images = np.array([np.array(Image.open(greek_data_path + '/' + fname)) for fname in greek_list])"
   ]
  },
  {
   "cell_type": "markdown",
   "metadata": {},
   "source": [
    "#  Load 1-9 Character Dataset (Test set)"
   ]
  },
  {
   "cell_type": "code",
   "execution_count": 42,
   "metadata": {},
   "outputs": [
    {
     "name": "stdout",
     "output_type": "stream",
     "text": [
      "2000\n",
      "2000\n"
     ]
    }
   ],
   "source": [
    "test_data_path = r\"/floyd/input/greek1_9_proper\"\n",
    "test_list = os.listdir(test_data_path) \n",
    "num_test_samples = np.size(test_list)\n",
    "print(num_test_samples)\n",
    "test_list.sort()\n",
    "test_labels = np.loadtxt('/floyd/input/greek_1_9/labels.csv', delimiter=',', skiprows=0)\n",
    "test_labels = test_labels.astype(np.uint8)\n",
    "test_labels = test_labels[:,4]\n",
    "print(len(test_labels))"
   ]
  },
  {
   "cell_type": "code",
   "execution_count": 43,
   "metadata": {},
   "outputs": [
    {
     "name": "stdout",
     "output_type": "stream",
     "text": [
      "100 100 2000\n"
     ]
    }
   ],
   "source": [
    "im = Image.open(test_data_path + '/' + test_list[0])\n",
    "np_im = np.array(im)\n",
    "m, n = np_im.shape[0:2] # get the size of the images\n",
    "num_images = len(test_list)\n",
    "print(m, n, num_images)\n",
    "test_images = np.array([np.array(Image.open(test_data_path + '/' + fname)) for fname in test_list])"
   ]
  },
  {
   "cell_type": "markdown",
   "metadata": {},
   "source": [
    "# Visualise datasets"
   ]
  },
  {
   "cell_type": "code",
   "execution_count": 48,
   "metadata": {},
   "outputs": [
    {
     "data": {
      "image/png": "[encoded data removed]",
      "text/plain": [
       "<Figure size 432x288 with 2 Axes>"
      ]
     },
     "metadata": {
      "needs_background": "light"
     },
     "output_type": "display_data"
    },
    {
     "data": {
      "image/png": "[encoded data removed]",
      "text/plain": [
       "<Figure size 432x288 with 2 Axes>"
      ]
     },
     "metadata": {
      "needs_background": "light"
     },
     "output_type": "display_data"
    },
    {
     "data": {
      "image/png": "[encoded data removed]",
      "text/plain": [
       "<Figure size 432x288 with 2 Axes>"
      ]
     },
     "metadata": {
      "needs_background": "light"
     },
     "output_type": "display_data"
    },
    {
     "data": {
      "image/png": "[encoded data removed]",
      "text/plain": [
       "<Figure size 432x288 with 2 Axes>"
      ]
     },
     "metadata": {
      "needs_background": "light"
     },
     "output_type": "display_data"
    }
   ],
   "source": [
    "plt.figure()\n",
    "plt.imshow(greek_images[0])\n",
    "plt.colorbar()\n",
    "plt.grid(False)\n",
    "plt.show()\n",
    "\n",
    "plt.figure()\n",
    "plt.imshow(test_images[0])\n",
    "plt.colorbar()\n",
    "plt.grid(False)\n",
    "plt.show()\n"
   ]
  },
  {
   "cell_type": "markdown",
   "metadata": {},
   "source": [
    "# Split Greek and Omniglot_background into train/test for models 1 + 3"
   ]
  },
  {
   "cell_type": "code",
   "execution_count": 49,
   "metadata": {},
   "outputs": [],
   "source": [
    "greek_train, greek_validation, greek_train_labels, greek_validation_labels = train_test_split(greek_images, \n",
    "                                                                                              greek_labels, \n",
    "                                                                                              test_size=0.2)"
   ]
  },
  {
   "cell_type": "markdown",
   "metadata": {},
   "source": [
    "# Normalise and make RGB for Reset"
   ]
  },
  {
   "cell_type": "code",
   "execution_count": 50,
   "metadata": {},
   "outputs": [],
   "source": [
    "greek_train = greek_train / 255.0\n",
    "greek_validation = greek_validation / 255.0"
   ]
  },
  {
   "cell_type": "markdown",
   "metadata": {},
   "source": [
    "# Convnet"
   ]
  },
  {
   "cell_type": "code",
   "execution_count": null,
   "metadata": {},
   "outputs": [],
   "source": [
    "from keras.models import Sequential\n",
    "from keras.layers import Dense, Conv2D, Flatten\n",
    "#create model\n",
    "model1 = Sequential()\n",
    "#add model layers\n",
    "model1.add(Conv2D(8000, kernel_size=3, activation=’relu’, input_shape=(m,n,1)), kernel_initializer='random_uniform')\n",
    "model1.add(Conv2D(4000, kernel_size=3, activation=’relu’, kernel_initializer='random_uniform'))\n",
    "model1.add(Conv2D(2000, kernel_size=3, activation=’relu’, kernel_initializer='random_uniform'))\n",
    "model1.add(Conv2D(1000, kernel_size=3, activation=’relu’, kernel_initializer='random_uniform'))\n",
    "model1.add(Conv2D(500, kernel_size=3, activation=’relu’, kernel_initializer='random_uniform'))\n",
    "model1.add(Conv2D(250, kernel_size=3, activation=’relu’, kernel_initializer='random_uniform'))\n",
    "model1.add(Flatten())\n",
    "model1.add(Dense(100, activation=’relu’))\n",
    "model1.add(Dense(50, activation=’relu’))\n",
    "model1.add(Dense(1, activation=’linear’))\n",
    "\n",
    "model1.compile(loss = \"mse\",\n",
    "               optimizer = optimizers.SGD(lr=0.0001, momentum=0.9), \n",
    "               metrics=[\"accuracy\"])"
   ]
  },
  {
   "cell_type": "code",
   "execution_count": null,
   "metadata": {},
   "outputs": [],
   "source": []
  },
  {
   "cell_type": "code",
   "execution_count": null,
   "metadata": {},
   "outputs": [],
   "source": [
    "layer_outputs_random = [layer.output for layer in model1.layers[1:]]\n",
    "activation_model_random = models.Model(inputs=model1.input, outputs=layer_outputs_random)\n",
    "activations_random = activation_model_random.predict(greek_validation) "
   ]
  },
  {
   "cell_type": "code",
   "execution_count": null,
   "metadata": {},
   "outputs": [],
   "source": [
    "activation_model_random.summary()\n",
    "print(np.shape(activations_random))"
   ]
  },
  {
   "cell_type": "code",
   "execution_count": null,
   "metadata": {},
   "outputs": [],
   "source": [
    "# load make_blobs to simulate data\n",
    "from sklearn.datasets import make_blobs\n",
    "# load decomposition to do PCA analysis with sklearn\n",
    "from sklearn import decomposition\n",
    "\n",
    "shallow_layer_randomweights = activations_random[0]\n",
    "pca = decomposition.PCA()\n",
    "pca_results_random_greek = pca.fit_transform(shallow_layer_randomweights) \n",
    "var_exp_randomweights = pca.explained_variance_ratio_.cumsum()\n",
    "\n",
    "plt.plot(var_exp_randomweights)\n",
    "plt.axvline(x=2, c='red')\n"
   ]
  },
  {
   "cell_type": "code",
   "execution_count": 55,
   "metadata": {},
   "outputs": [
    {
     "name": "stderr",
     "output_type": "stream",
     "text": [
      "/Users/AdamHarris/miniconda3/lib/python3.7/site-packages/ipykernel_launcher.py:1: UserWarning: Update your `Model` call to the Keras 2 API: `Model(inputs=Tensor(\"in..., outputs=Tensor(\"de...)`\n",
      "  \"\"\"Entry point for launching an IPython kernel.\n"
     ]
    }
   ],
   "source": [
    "plt.scatter(pca_results_random_greek[:,0], pca_results_random_greek[:,1], c=greek_labels[0:300], cmap='inferno')\n",
    "plt.colorbar(label='Num Characters')\n",
    "plt.xlabel('PC-1')\n",
    "plt.ylabel('PC-2')\n",
    "plt.show"
   ]
  }
 ],
 "metadata": {
  "kernelspec": {
   "display_name": "Python 3",
   "language": "python",
   "name": "python3"
  },
  "language_info": {
   "codemirror_mode": {
    "name": "ipython",
    "version": 3
   },
   "file_extension": ".py",
   "mimetype": "text/x-python",
   "name": "python",
   "nbconvert_exporter": "python",
   "pygments_lexer": "ipython3",
   "version": "3.7.3"
  }
 },
 "nbformat": 4,
 "nbformat_minor": 2
}
